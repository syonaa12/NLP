{
  "nbformat": 4,
  "nbformat_minor": 0,
  "metadata": {
    "colab": {
      "provenance": []
    },
    "kernelspec": {
      "name": "python3",
      "display_name": "Python 3"
    },
    "language_info": {
      "name": "python"
    }
  },
  "cells": [
    {
      "cell_type": "code",
      "execution_count": 1,
      "metadata": {
        "colab": {
          "base_uri": "https://localhost:8080/"
        },
        "id": "485gaNe5PYau",
        "outputId": "f72271b5-4cae-41b6-80ac-342aad68f203"
      },
      "outputs": [
        {
          "output_type": "stream",
          "name": "stdout",
          "text": [
            "Requirement already satisfied: gensim in /usr/local/lib/python3.11/dist-packages (4.3.3)\n",
            "Requirement already satisfied: numpy<2.0,>=1.18.5 in /usr/local/lib/python3.11/dist-packages (from gensim) (1.26.4)\n",
            "Requirement already satisfied: scipy<1.14.0,>=1.7.0 in /usr/local/lib/python3.11/dist-packages (from gensim) (1.13.1)\n",
            "Requirement already satisfied: smart-open>=1.8.1 in /usr/local/lib/python3.11/dist-packages (from gensim) (7.3.0.post1)\n",
            "Requirement already satisfied: wrapt in /usr/local/lib/python3.11/dist-packages (from smart-open>=1.8.1->gensim) (1.17.2)\n"
          ]
        }
      ],
      "source": [
        "!pip install gensim\n"
      ]
    },
    {
      "cell_type": "code",
      "source": [
        "import gensim.downloader as api\n",
        "from pprint import pprint\n"
      ],
      "metadata": {
        "id": "q8dt77rrSEpy"
      },
      "execution_count": 2,
      "outputs": []
    },
    {
      "cell_type": "code",
      "source": [
        "model = api.load(\"word2vec-google-news-300\")\n"
      ],
      "metadata": {
        "colab": {
          "base_uri": "https://localhost:8080/"
        },
        "id": "-TjhX50nSUeW",
        "outputId": "702d17b0-9788-4dc8-e28b-5093126d6aed"
      },
      "execution_count": 3,
      "outputs": [
        {
          "output_type": "stream",
          "name": "stdout",
          "text": [
            "[==================================================] 100.0% 1662.8/1662.8MB downloaded\n"
          ]
        }
      ]
    },
    {
      "cell_type": "code",
      "source": [
        "words = ['music', 'computer', 'food', 'city', 'school']\n",
        "\n",
        "for word in words:\n",
        "    print(f\"\\nTop 5 words similar to '{word}':\")\n",
        "    pprint(model.most_similar(word, topn=5))\n"
      ],
      "metadata": {
        "colab": {
          "base_uri": "https://localhost:8080/"
        },
        "id": "7zHs7r0uSXkH",
        "outputId": "355feb65-e872-49dd-fa9f-f88bfce433a3"
      },
      "execution_count": 4,
      "outputs": [
        {
          "output_type": "stream",
          "name": "stdout",
          "text": [
            "\n",
            "Top 5 words similar to 'music':\n",
            "[('classical_music', 0.7197794318199158),\n",
            " ('jazz', 0.6834640502929688),\n",
            " ('Music', 0.6595720648765564),\n",
            " ('Without_Donny_Kirshner', 0.6416222453117371),\n",
            " ('songs', 0.6396344304084778)]\n",
            "\n",
            "Top 5 words similar to 'computer':\n",
            "[('computers', 0.7979379892349243),\n",
            " ('laptop', 0.6640493273735046),\n",
            " ('laptop_computer', 0.6548868417739868),\n",
            " ('Computer', 0.647333562374115),\n",
            " ('com_puter', 0.6082080006599426)]\n",
            "\n",
            "Top 5 words similar to 'food':\n",
            "[('foods', 0.6804922819137573),\n",
            " ('Food', 0.6538903713226318),\n",
            " ('foodstuffs', 0.642582893371582),\n",
            " ('meals', 0.616668701171875),\n",
            " ('food_stuffs', 0.5928642153739929)]\n",
            "\n",
            "Top 5 words similar to 'city':\n",
            "[('citys', 0.6803998947143555),\n",
            " ('mayor', 0.675115168094635),\n",
            " ('town', 0.6723739504814148),\n",
            " ('municipality', 0.6530812382698059),\n",
            " ('municipal', 0.6222546100616455)]\n",
            "\n",
            "Top 5 words similar to 'school':\n",
            "[('elementary', 0.7868632078170776),\n",
            " ('schools', 0.7411909103393555),\n",
            " ('shool', 0.6692329049110413),\n",
            " ('elementary_schools', 0.6597153544425964),\n",
            " ('kindergarten', 0.6529811024665833)]\n"
          ]
        }
      ]
    },
    {
      "cell_type": "code",
      "source": [
        "print(\"\\nAnalogy: king - man + woman ≈ ?\")\n",
        "pprint(model.most_similar(positive=['king', 'woman'], negative=['man'], topn=1))\n",
        "\n",
        "print(\"\\nAnalogy: prince - man + woman ≈ ?\")\n",
        "pprint(model.most_similar(positive=['prince', 'woman'], negative=['man'], topn=1))\n",
        "\n",
        "print(\"\\nAnalogy: uncle - man + woman ≈ ?\")\n",
        "pprint(model.most_similar(positive=['uncle', 'woman'], negative=['man'], topn=1))\n",
        "\n",
        "print(\"\\nAnalogy: brother - man + woman ≈ ?\")\n",
        "pprint(model.most_similar(positive=['brother', 'woman'], negative=['man'], topn=1))"
      ],
      "metadata": {
        "colab": {
          "base_uri": "https://localhost:8080/"
        },
        "id": "v8RTWU9lTv88",
        "outputId": "d674293c-3254-4152-ee8c-e29dea72f1a8"
      },
      "execution_count": 7,
      "outputs": [
        {
          "output_type": "stream",
          "name": "stdout",
          "text": [
            "\n",
            "Analogy: king - man + woman ≈ ?\n",
            "[('queen', 0.7118193507194519)]\n",
            "\n",
            "Analogy: prince - man + woman ≈ ?\n",
            "[('princess', 0.7041179537773132)]\n",
            "\n",
            "Analogy: uncle - man + woman ≈ ?\n",
            "[('aunt', 0.8022665977478027)]\n",
            "\n",
            "Analogy: brother - man + woman ≈ ?\n",
            "[('sister', 0.8103213906288147)]\n"
          ]
        }
      ]
    }
  ]
}
