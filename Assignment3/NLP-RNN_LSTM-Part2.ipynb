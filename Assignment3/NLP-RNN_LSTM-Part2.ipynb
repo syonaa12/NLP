{
 "cells": [
  {
   "cell_type": "code",
   "execution_count": null,
   "id": "3bd6bd49",
   "metadata": {},
   "outputs": [],
   "source": [
    "### Part 2 - Build a Date Parser"
   ]
  },
  {
   "cell_type": "code",
   "execution_count": 4,
   "id": "8a2a19e4",
   "metadata": {},
   "outputs": [],
   "source": [
    "import re\n",
    "from datetime import datetime\n",
    "\n",
    "month_map = {\n",
    "    'january': '01', 'jan': '01',\n",
    "    'february': '02', 'feb': '02',\n",
    "    'march': '03', 'mar': '03',\n",
    "    'april': '04', 'apr': '04',\n",
    "    'may': '05',\n",
    "    'june': '06', 'jun': '06',\n",
    "    'july': '07', 'jul': '07',\n",
    "    'august': '08', 'aug': '08',\n",
    "    'september': '09', 'sep': '09', 'sept': '09',\n",
    "    'october': '10', 'oct': '10',\n",
    "    'november': '11', 'nov': '11',\n",
    "    'december': '12', 'dec': '12'\n",
    "}\n"
   ]
  },
  {
   "cell_type": "code",
   "execution_count": 5,
   "id": "c649572e",
   "metadata": {},
   "outputs": [],
   "source": [
    "def normalize_text(text):\n",
    "    # Lowercase, remove suffixes (st, nd, rd, th), remove 'of'\n",
    "    text = text.lower()\n",
    "    text = re.sub(r'(\\d+)(st|nd|rd|th)', r'\\1', text)\n",
    "    text = text.replace(\" of \", \" \")\n",
    "    return text"
   ]
  },
  {
   "cell_type": "code",
   "execution_count": 6,
   "id": "255283c0",
   "metadata": {},
   "outputs": [],
   "source": [
    "def extract_date(text):\n",
    "    text = normalize_text(text)\n",
    "    \n",
    "    # Patterns to match\n",
    "    patterns = [\n",
    "        # Match: March 5, 2023 / April 03, 2020\n",
    "        r'(?P<month>[a-z]+)[\\s\\-]*(?P<day>\\d{1,2}),?\\s*(?P<year>\\d{2,4})',\n",
    "        \n",
    "        # Match: 1 January 2000 / 15 September 2021\n",
    "        r'(?P<day>\\d{1,2})[\\s\\-]*(?P<month>[a-z]+),?\\s*(?P<year>\\d{2,4})',\n",
    "        \n",
    "        # Match: 2022-12-31 / 2021.11.10 / 1997/05/20\n",
    "        r'(?P<year>\\d{4})[\\-./](?P<month>\\d{1,2})[\\-./](?P<day>\\d{1,2})',\n",
    "        \n",
    "        # Match: 5/6/19 or 12/12/12 (assume DD/MM/YY or fallback to MM/DD/YY)\n",
    "        r'(?P<d1>\\d{1,2})[\\/.\\-](?P<d2>\\d{1,2})[\\/.\\-](?P<d3>\\d{2,4})',\n",
    "    ]\n",
    "    \n",
    "    for pattern in patterns:\n",
    "        match = re.search(pattern, text)\n",
    "        if match:\n",
    "            parts = match.groupdict()\n",
    "\n",
    "            # Case 1: Month name present\n",
    "            if 'month' in parts and parts['month'].isalpha():\n",
    "                month = month_map.get(parts['month'].lower())\n",
    "                if not month:\n",
    "                    continue\n",
    "                day = parts['day'].zfill(2)\n",
    "                year = parts['year']\n",
    "            # Case 2: YYYY-MM-DD or similar\n",
    "            elif 'year' in parts and 'month' in parts and 'day' in parts:\n",
    "                day = parts['day'].zfill(2)\n",
    "                month = parts['month'].zfill(2)\n",
    "                year = parts['year']\n",
    "            # Case 3: Ambiguous numeric (d1/d2/d3)\n",
    "            elif 'd1' in parts and 'd2' in parts and 'd3' in parts:\n",
    "                d1, d2, d3 = parts['d1'], parts['d2'], parts['d3']\n",
    "                year = d3 if len(d3) == 4 else ('20' + d3 if int(d3) <= 25 else '19' + d3)\n",
    "                # Try MM/DD/YYYY first (common US format)\n",
    "                for first_try in [(d2, d1), (d1, d2)]:\n",
    "                    month, day = first_try[0].zfill(2), first_try[1].zfill(2)\n",
    "                    try:\n",
    "                        datetime.strptime(f\"{day}/{month}/{year}\", \"%d/%m/%Y\")\n",
    "                        break\n",
    "                    except:\n",
    "                        continue\n",
    "                else:\n",
    "                    continue\n",
    "            else:\n",
    "                continue\n",
    "\n",
    "            try:\n",
    "                datetime.strptime(f\"{day}/{month}/{year}\", \"%d/%m/%Y\")\n",
    "                return f\"{day}/{month}/{year}\"\n",
    "            except:\n",
    "                continue\n",
    "\n",
    "    return \"INVALID\""
   ]
  },
  {
   "cell_type": "code",
   "execution_count": 7,
   "id": "931c94c8",
   "metadata": {
    "scrolled": false
   },
   "outputs": [
    {
     "name": "stdout",
     "output_type": "stream",
     "text": [
      "Input:    The event will take place on March 5, 2023.\n",
      "Expected: 05/03/2023\n",
      "Parsed:   05/03/2023\n",
      "Status:   PASS\n",
      "--------------------------------------------------\n",
      "Input:    Her birthday is on 07/08/1990.\n",
      "Expected: 07/08/1990\n",
      "Parsed:   07/08/1990\n",
      "Status:   PASS\n",
      "--------------------------------------------------\n",
      "Input:    The deadline is 2022-12-31.\n",
      "Expected: 31/12/2022\n",
      "Parsed:   31/12/2022\n",
      "Status:   PASS\n",
      "--------------------------------------------------\n",
      "Input:    We met on 1st of January 2000.\n",
      "Expected: 01/01/2000\n",
      "Parsed:   01/01/2000\n",
      "Status:   PASS\n",
      "--------------------------------------------------\n",
      "Input:    The concert is scheduled for 15th September, 2021.\n",
      "Expected: 15/09/2021\n",
      "Parsed:   15/09/2021\n",
      "Status:   PASS\n",
      "--------------------------------------------------\n"
     ]
    }
   ],
   "source": [
    "import csv\n",
    "\n",
    "with open('date_parser_testcases.csv', newline='') as f:\n",
    "    reader = csv.DictReader(f)\n",
    "    results = []\n",
    "\n",
    "    for i, row in enumerate(reader):\n",
    "        input_text = row['Input']\n",
    "        expected = row['Expected Output']\n",
    "        parsed = extract_date(input_text)\n",
    "        status = \"PASS\" if parsed == expected else f\"FAIL (Got: {parsed})\"\n",
    "        results.append((input_text, expected, parsed, status))\n",
    "        \n",
    "        if i < 5:\n",
    "            print(f\"Input:    {input_text}\")\n",
    "            print(f\"Expected: {expected}\")\n",
    "            print(f\"Parsed:   {parsed}\")\n",
    "            print(f\"Status:   {status}\")\n",
    "            print(\"-\" * 50)\n"
   ]
  },
  {
   "cell_type": "code",
   "execution_count": 42,
   "id": "cb3435d1",
   "metadata": {},
   "outputs": [
    {
     "name": "stdout",
     "output_type": "stream",
     "text": [
      "\n",
      "Accuracy: 97.00%\n"
     ]
    }
   ],
   "source": [
    "num_passes = sum(1 for r in results if r[3].startswith(\"PASS\"))\n",
    "total_cases = len(results)\n",
    "\n",
    "accuracy = (num_passes / total_cases) * 100\n",
    "print(f\"\\nAccuracy: {accuracy:.2f}%\")\n"
   ]
  },
  {
   "cell_type": "code",
   "execution_count": null,
   "id": "1cc22d16",
   "metadata": {},
   "outputs": [],
   "source": [
    "##Part 3"
   ]
  },
  {
   "cell_type": "code",
   "execution_count": 23,
   "id": "1745c202",
   "metadata": {},
   "outputs": [],
   "source": [
    "import re\n",
    "import unicodedata"
   ]
  },
  {
   "cell_type": "code",
   "execution_count": 10,
   "id": "a8f69571",
   "metadata": {},
   "outputs": [],
   "source": [
    "import pandas as pd \n",
    "df = pd.read_csv(\"pronoun_testcases.csv\")"
   ]
  },
  {
   "cell_type": "code",
   "execution_count": 12,
   "id": "3faf5285",
   "metadata": {},
   "outputs": [
    {
     "name": "stderr",
     "output_type": "stream",
     "text": [
      "/Users/syonaa/anaconda3/lib/python3.11/site-packages/torch/utils/_pytree.py:185: FutureWarning: optree is installed but the version is too old to support PyTorch Dynamo in C++ pytree. C++ pytree support is disabled. Please consider upgrading optree using `python3 -m pip install --upgrade 'optree>=0.13.0'`.\n",
      "  warnings.warn(\n"
     ]
    }
   ],
   "source": [
    "import spacy \n",
    "nlp = spacy.load(\"en_core_web_sm\")"
   ]
  },
  {
   "cell_type": "code",
   "execution_count": 32,
   "id": "69700cc1",
   "metadata": {},
   "outputs": [],
   "source": [
    "pronoun_map = {\n",
    "    \"female\": {\n",
    "        \"he\": \"she\",\n",
    "        \"him\": \"her\",\n",
    "        \"his\": \"her\",\n",
    "        \"himself\": \"herself\"\n",
    "    },\n",
    "    \"male\": {\n",
    "        \"she\": \"he\",\n",
    "        \"her\": \"him\",     \n",
    "        \"hers\": \"his\",\n",
    "        \"herself\": \"himself\"\n",
    "    }\n",
    "}"
   ]
  },
  {
   "cell_type": "code",
   "execution_count": 33,
   "id": "85554824",
   "metadata": {},
   "outputs": [],
   "source": [
    "def normalize_quotes(text):\n",
    "    return text.replace(\"’\", \"'\").replace(\"‘\", \"'\")\n"
   ]
  },
  {
   "cell_type": "code",
   "execution_count": 34,
   "id": "7550c6b1",
   "metadata": {},
   "outputs": [],
   "source": [
    "def transform_gender(text, target_gender):\n",
    "    text = normalize_quotes(text)\n",
    "    doc = nlp(text)\n",
    "    new_tokens = []\n",
    "\n",
    "    for token in doc:\n",
    "        word_lower = token.text.lower()\n",
    "        if word_lower in pronoun_map[target_gender]:\n",
    "            replacement = pronoun_map[target_gender][word_lower]\n",
    "            if token.text[0].isupper():\n",
    "                replacement = replacement.capitalize()\n",
    "            new_tokens.append(replacement + token.whitespace_)\n",
    "        else:\n",
    "            new_tokens.append(token.text_with_ws)\n",
    "\n",
    "    return ''.join(new_tokens).strip()\n"
   ]
  },
  {
   "cell_type": "code",
   "execution_count": 35,
   "id": "115b237c",
   "metadata": {},
   "outputs": [],
   "source": [
    "df[\"input_text\"] = df[\"input_text\"].apply(normalize_quotes)\n",
    "df[\"expected_output\"] = df[\"expected_output\"].apply(normalize_quotes)"
   ]
  },
  {
   "cell_type": "code",
   "execution_count": 36,
   "id": "9946404a",
   "metadata": {},
   "outputs": [],
   "source": [
    "df[\"actual_output\"] = df.apply(lambda row: transform_gender(row[\"input_text\"], row[\"target_gender\"]), axis=1)"
   ]
  },
  {
   "cell_type": "code",
   "execution_count": 38,
   "id": "180a6725",
   "metadata": {},
   "outputs": [],
   "source": [
    "df[\"match\"] = df[\"expected_output\"] == df[\"actual_output\"]"
   ]
  },
  {
   "cell_type": "code",
   "execution_count": 40,
   "id": "69c664de",
   "metadata": {},
   "outputs": [
    {
     "data": {
      "text/html": [
       "<div>\n",
       "<style scoped>\n",
       "    .dataframe tbody tr th:only-of-type {\n",
       "        vertical-align: middle;\n",
       "    }\n",
       "\n",
       "    .dataframe tbody tr th {\n",
       "        vertical-align: top;\n",
       "    }\n",
       "\n",
       "    .dataframe thead th {\n",
       "        text-align: right;\n",
       "    }\n",
       "</style>\n",
       "<table border=\"1\" class=\"dataframe\">\n",
       "  <thead>\n",
       "    <tr style=\"text-align: right;\">\n",
       "      <th></th>\n",
       "      <th>input_text</th>\n",
       "      <th>target_gender</th>\n",
       "      <th>expected_output</th>\n",
       "      <th>actual_output</th>\n",
       "      <th>match</th>\n",
       "    </tr>\n",
       "  </thead>\n",
       "  <tbody>\n",
       "    <tr>\n",
       "      <th>0</th>\n",
       "      <td>He is going to the market.</td>\n",
       "      <td>female</td>\n",
       "      <td>She is going to the market.</td>\n",
       "      <td>She is going to the market.</td>\n",
       "      <td>True</td>\n",
       "    </tr>\n",
       "    <tr>\n",
       "      <th>1</th>\n",
       "      <td>His book is on the table.</td>\n",
       "      <td>female</td>\n",
       "      <td>Her book is on the table.</td>\n",
       "      <td>Her book is on the table.</td>\n",
       "      <td>True</td>\n",
       "    </tr>\n",
       "    <tr>\n",
       "      <th>2</th>\n",
       "      <td>I saw him yesterday.</td>\n",
       "      <td>female</td>\n",
       "      <td>I saw her yesterday.</td>\n",
       "      <td>I saw her yesterday.</td>\n",
       "      <td>True</td>\n",
       "    </tr>\n",
       "    <tr>\n",
       "      <th>3</th>\n",
       "      <td>He hurt himself.</td>\n",
       "      <td>female</td>\n",
       "      <td>She hurt herself.</td>\n",
       "      <td>She hurt herself.</td>\n",
       "      <td>True</td>\n",
       "    </tr>\n",
       "    <tr>\n",
       "      <th>4</th>\n",
       "      <td>I called him last night.</td>\n",
       "      <td>female</td>\n",
       "      <td>I called her last night.</td>\n",
       "      <td>I called her last night.</td>\n",
       "      <td>True</td>\n",
       "    </tr>\n",
       "    <tr>\n",
       "      <th>5</th>\n",
       "      <td>That is his car.</td>\n",
       "      <td>female</td>\n",
       "      <td>That is her car.</td>\n",
       "      <td>That is her car.</td>\n",
       "      <td>True</td>\n",
       "    </tr>\n",
       "    <tr>\n",
       "      <th>6</th>\n",
       "      <td>He told me about his trip.</td>\n",
       "      <td>female</td>\n",
       "      <td>She told me about her trip.</td>\n",
       "      <td>She told me about her trip.</td>\n",
       "      <td>True</td>\n",
       "    </tr>\n",
       "    <tr>\n",
       "      <th>7</th>\n",
       "      <td>The teacher gave him a warning.</td>\n",
       "      <td>female</td>\n",
       "      <td>The teacher gave her a warning.</td>\n",
       "      <td>The teacher gave her a warning.</td>\n",
       "      <td>True</td>\n",
       "    </tr>\n",
       "    <tr>\n",
       "      <th>8</th>\n",
       "      <td>He blames himself for the mistake.</td>\n",
       "      <td>female</td>\n",
       "      <td>She blames herself for the mistake.</td>\n",
       "      <td>She blames herself for the mistake.</td>\n",
       "      <td>True</td>\n",
       "    </tr>\n",
       "    <tr>\n",
       "      <th>9</th>\n",
       "      <td>He brought his laptop.</td>\n",
       "      <td>female</td>\n",
       "      <td>She brought her laptop.</td>\n",
       "      <td>She brought her laptop.</td>\n",
       "      <td>True</td>\n",
       "    </tr>\n",
       "  </tbody>\n",
       "</table>\n",
       "</div>"
      ],
      "text/plain": [
       "                           input_text target_gender  \\\n",
       "0          He is going to the market.        female   \n",
       "1           His book is on the table.        female   \n",
       "2                I saw him yesterday.        female   \n",
       "3                    He hurt himself.        female   \n",
       "4            I called him last night.        female   \n",
       "5                    That is his car.        female   \n",
       "6          He told me about his trip.        female   \n",
       "7     The teacher gave him a warning.        female   \n",
       "8  He blames himself for the mistake.        female   \n",
       "9              He brought his laptop.        female   \n",
       "\n",
       "                       expected_output                        actual_output  \\\n",
       "0          She is going to the market.          She is going to the market.   \n",
       "1            Her book is on the table.            Her book is on the table.   \n",
       "2                 I saw her yesterday.                 I saw her yesterday.   \n",
       "3                    She hurt herself.                    She hurt herself.   \n",
       "4             I called her last night.             I called her last night.   \n",
       "5                     That is her car.                     That is her car.   \n",
       "6          She told me about her trip.          She told me about her trip.   \n",
       "7      The teacher gave her a warning.      The teacher gave her a warning.   \n",
       "8  She blames herself for the mistake.  She blames herself for the mistake.   \n",
       "9              She brought her laptop.              She brought her laptop.   \n",
       "\n",
       "   match  \n",
       "0   True  \n",
       "1   True  \n",
       "2   True  \n",
       "3   True  \n",
       "4   True  \n",
       "5   True  \n",
       "6   True  \n",
       "7   True  \n",
       "8   True  \n",
       "9   True  "
      ]
     },
     "metadata": {},
     "output_type": "display_data"
    }
   ],
   "source": [
    "pd.set_option(\"display.max_colwidth\", None)\n",
    "display(df[[\"input_text\", \"target_gender\", \"expected_output\", \"actual_output\", \"match\"]].head(10))"
   ]
  },
  {
   "cell_type": "code",
   "execution_count": 41,
   "id": "92b3d295",
   "metadata": {},
   "outputs": [
    {
     "name": "stdout",
     "output_type": "stream",
     "text": [
      "Accuracy: 80.77%\n"
     ]
    }
   ],
   "source": [
    "accuracy = df[\"match\"].mean() * 100\n",
    "print(f\"Accuracy: {accuracy:.2f}%\")\n"
   ]
  },
  {
   "cell_type": "code",
   "execution_count": null,
   "id": "4b06c36d",
   "metadata": {},
   "outputs": [],
   "source": [
    "#Possibly because of her being transformed to him or his. "
   ]
  }
 ],
 "metadata": {
  "kernelspec": {
   "display_name": "Python 3 (ipykernel)",
   "language": "python",
   "name": "python3"
  },
  "language_info": {
   "codemirror_mode": {
    "name": "ipython",
    "version": 3
   },
   "file_extension": ".py",
   "mimetype": "text/x-python",
   "name": "python",
   "nbconvert_exporter": "python",
   "pygments_lexer": "ipython3",
   "version": "3.11.5"
  }
 },
 "nbformat": 4,
 "nbformat_minor": 5
}
